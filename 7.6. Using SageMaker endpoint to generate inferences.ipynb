{
 "cells": [
  {
   "cell_type": "markdown",
   "id": "intensive-stomach",
   "metadata": {},
   "source": [
    "## Using sagemaker endpoint to generate inferences"
   ]
  },
  {
   "cell_type": "code",
   "execution_count": 1,
   "id": "handed-strap",
   "metadata": {},
   "outputs": [],
   "source": [
    "# importing required libraries\n",
    "import boto3\n",
    "import json"
   ]
  },
  {
   "cell_type": "code",
   "execution_count": 2,
   "id": "small-glance",
   "metadata": {},
   "outputs": [],
   "source": [
    "# specifying the runtime\n",
    "runtime = boto3.Session().client('sagemaker-runtime')"
   ]
  },
  {
   "cell_type": "code",
   "execution_count": 3,
   "id": "selected-happiness",
   "metadata": {},
   "outputs": [],
   "source": [
    "# specifying the endpoint name\n",
    "endpoint = ''"
   ]
  },
  {
   "cell_type": "markdown",
   "id": "split-conflict",
   "metadata": {},
   "source": [
    "#### Input format:\n",
    "Gender : 0 for Female and 1 for male <br>\n",
    "Height in cms <br>\n",
    "Weight in kgs <br>\n",
    "Smoke : 0 if No, 1 if yes <br>\n",
    "Alcohol : 0 if No, 1 if yes"
   ]
  },
  {
   "cell_type": "markdown",
   "id": "centered-camcorder",
   "metadata": {},
   "source": [
    "Note: For text/csv, the value for the Body argument to invoke_endpoint should be a string with commas separating the values for each feature."
   ]
  },
  {
   "cell_type": "code",
   "execution_count": 4,
   "id": "verbal-tension",
   "metadata": {},
   "outputs": [],
   "source": [
    "# defining the input\n",
    "user_input = '1,160,60,0,0'"
   ]
  },
  {
   "cell_type": "code",
   "execution_count": 5,
   "id": "sorted-antibody",
   "metadata": {},
   "outputs": [],
   "source": [
    "# using endpoint to maker inference\n",
    "response = runtime.invoke_endpoint(EndpointName=endpoint, ContentType='text/csv', Body=user_input)"
   ]
  },
  {
   "cell_type": "code",
   "execution_count": 7,
   "id": "distributed-replication",
   "metadata": {},
   "outputs": [
    {
     "data": {
      "text/plain": [
       "43"
      ]
     },
     "execution_count": 7,
     "metadata": {},
     "output_type": "execute_result"
    }
   ],
   "source": [
    "# displaying the result\n",
    "result = json.loads(response['Body'].read().decode())\n",
    "int(result*100)"
   ]
  },
  {
   "cell_type": "code",
   "execution_count": 10,
   "id": "happy-nashville",
   "metadata": {},
   "outputs": [],
   "source": [
    "# defining the function to predict cardiac arrest\n",
    "def cardiac_arrest_predictor(Gender, Height, Weight, Smoke, Alcohol):\n",
    "    # pre-processing the input\n",
    "    if Gender == 'Male':\n",
    "        Gender = 0\n",
    "    else:\n",
    "        Gender = 1\n",
    "    if Smoke == 'No':\n",
    "        Smoke = 0\n",
    "    else:\n",
    "        Smoke = 1\n",
    "    if Alcohol == 'No':\n",
    "        Alcohol = 0\n",
    "    else:\n",
    "        Alcohol = 1\n",
    "        \n",
    "    # converting the input into a string\n",
    "    user_input = \",\".join([str(Gender), str(Height), str(Weight), str(Smoke), str(Alcohol)])\n",
    "    \n",
    "    # using endpoint to make inferencec\n",
    "    response = runtime.invoke_endpoint(EndpointName=endpoint, ContentType='text/csv', Body=user_input)\n",
    "    result = json.loads(response['Body'].read().decode())\n",
    "    \n",
    "    # displaying the result\n",
    "    print('Your chances of getting a cardiac arrest are {} %'.format(int(result*100)))"
   ]
  },
  {
   "cell_type": "code",
   "execution_count": 11,
   "id": "burning-shade",
   "metadata": {},
   "outputs": [
    {
     "name": "stdout",
     "output_type": "stream",
     "text": [
      "Your chances of getting a cardiac arrest are 36 %\n"
     ]
    }
   ],
   "source": [
    "cardiac_arrest_predictor(Gender='Male', Height = 170, Weight = 60, Smoke = 'No', Alcohol= 'No')"
   ]
  }
 ],
 "metadata": {
  "kernelspec": {
   "display_name": "conda_python3",
   "language": "python",
   "name": "conda_python3"
  },
  "language_info": {
   "codemirror_mode": {
    "name": "ipython",
    "version": 3
   },
   "file_extension": ".py",
   "mimetype": "text/x-python",
   "name": "python",
   "nbconvert_exporter": "python",
   "pygments_lexer": "ipython3",
   "version": "3.6.10"
  }
 },
 "nbformat": 4,
 "nbformat_minor": 5
}
